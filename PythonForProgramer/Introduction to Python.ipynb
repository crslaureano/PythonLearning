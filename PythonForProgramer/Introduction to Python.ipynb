{
 "cells": [
  {
   "cell_type": "code",
   "execution_count": 1,
   "id": "5728ca1a-d1cd-45b4-a0bf-e95cb28dae19",
   "metadata": {},
   "outputs": [
    {
     "name": "stdout",
     "output_type": "stream",
     "text": [
      "The Zen of Python, by Tim Peters\n",
      "\n",
      "Beautiful is better than ugly.\n",
      "Explicit is better than implicit.\n",
      "Simple is better than complex.\n",
      "Complex is better than complicated.\n",
      "Flat is better than nested.\n",
      "Sparse is better than dense.\n",
      "Readability counts.\n",
      "Special cases aren't special enough to break the rules.\n",
      "Although practicality beats purity.\n",
      "Errors should never pass silently.\n",
      "Unless explicitly silenced.\n",
      "In the face of ambiguity, refuse the temptation to guess.\n",
      "There should be one-- and preferably only one --obvious way to do it.\n",
      "Although that way may not be obvious at first unless you're Dutch.\n",
      "Now is better than never.\n",
      "Although never is often better than *right* now.\n",
      "If the implementation is hard to explain, it's a bad idea.\n",
      "If the implementation is easy to explain, it may be a good idea.\n",
      "Namespaces are one honking great idea -- let's do more of those!\n"
     ]
    }
   ],
   "source": [
    "import this"
   ]
  },
  {
   "cell_type": "code",
   "execution_count": 2,
   "id": "b6c8b6ad-1472-4eb9-8e2f-cd9b7ba6f520",
   "metadata": {
    "tags": []
   },
   "outputs": [
    {
     "data": {
      "text/plain": [
       "638"
      ]
     },
     "execution_count": 2,
     "metadata": {},
     "output_type": "execute_result"
    }
   ],
   "source": [
    "# Using Jupyter lab with calculator\n",
    "29 * 22"
   ]
  },
  {
   "cell_type": "code",
   "execution_count": 3,
   "id": "88e02963-3b1e-4245-8f63-93e314290137",
   "metadata": {
    "tags": []
   },
   "outputs": [],
   "source": [
    "# create a variable\n",
    "variable_a = 4\n",
    "variable_b = 7\n"
   ]
  },
  {
   "cell_type": "code",
   "execution_count": 4,
   "id": "3fafbcf3-75a0-4d74-a19c-f12596412085",
   "metadata": {
    "tags": []
   },
   "outputs": [
    {
     "name": "stdout",
     "output_type": "stream",
     "text": [
      "11\n"
     ]
    }
   ],
   "source": [
    "# Opeacion de variables\n",
    "print(variable_a + variable_b)"
   ]
  },
  {
   "cell_type": "markdown",
   "id": "29df55fa-6ad6-4f29-8bf9-db6b356518e4",
   "metadata": {},
   "source": [
    "- Para una mejor valoracion de el estilo para el codigo de python:\n",
    "    - https://peps.python.org/pep-0008/\n",
    "- Arithmetic:\n",
    "    - addition: +\n",
    "    - subtraction: -\n",
    "    - multiplication: *\n",
    "    - exponentiation: **\n",
    "    - true division: /\n",
    "    - foor division: //\n",
    "    - remainder: %\n"
   ]
  },
  {
   "cell_type": "code",
   "execution_count": 5,
   "id": "8f475d1a-a1ab-45f8-bfc5-0f5b1b884790",
   "metadata": {
    "tags": []
   },
   "outputs": [
    {
     "name": "stdout",
     "output_type": "stream",
     "text": [
      "Welcome to Python!\n"
     ]
    }
   ],
   "source": [
    "# print function\n",
    "print('Welcome to Python!')"
   ]
  },
  {
   "cell_type": "code",
   "execution_count": 6,
   "id": "abb73dd9-4d3b-4ddd-ab37-6f282b38ad77",
   "metadata": {
    "tags": []
   },
   "outputs": [
    {
     "name": "stdout",
     "output_type": "stream",
     "text": [
      "Welcome to Python\n"
     ]
    }
   ],
   "source": [
    "print('Welcome', 'to', 'Python')"
   ]
  },
  {
   "cell_type": "markdown",
   "id": "29790c9f-4376-4377-affe-875c13a37c5c",
   "metadata": {},
   "source": [
    "Escape\n",
    "- \\n inserta una nueva linea\n",
    "- \\t inserta una horizontal tab\n",
    "- \\\\ inserta un backslask\n",
    "- \\\" inserta una comilla\n",
    "- \\' inserta una comilla simple"
   ]
  },
  {
   "cell_type": "code",
   "execution_count": 7,
   "id": "6029975d-cb91-4e33-a798-6484fa0355ca",
   "metadata": {
    "tags": []
   },
   "outputs": [
    {
     "name": "stdout",
     "output_type": "stream",
     "text": [
      "Hola\n",
      "Mundo\n",
      "Hola\tMundo\n",
      "Hola\\Mundo\n",
      "Hola\"Mundo\n",
      "Hola'Mundo\n"
     ]
    }
   ],
   "source": [
    "print('Hola\\nMundo')\n",
    "print('Hola\\tMundo')\n",
    "print('Hola\\\\Mundo')\n",
    "print('Hola\\\"Mundo')\n",
    "print('Hola\\'Mundo')"
   ]
  },
  {
   "cell_type": "code",
   "execution_count": 8,
   "id": "a6906e14-3d9c-4c1d-8209-cf2002bc529a",
   "metadata": {
    "tags": []
   },
   "outputs": [
    {
     "name": "stdout",
     "output_type": "stream",
     "text": [
      "this is a longer string, so we split it over two lines\n"
     ]
    }
   ],
   "source": [
    "# agregando un print en un espacio doble\n",
    "print('this is a longer string, so we \\\n",
    "split it over two lines')"
   ]
  },
  {
   "cell_type": "code",
   "execution_count": 9,
   "id": "a67bcb07-cccf-4b76-b59b-e9d19c8fb938",
   "metadata": {
    "tags": []
   },
   "outputs": [
    {
     "name": "stdout",
     "output_type": "stream",
     "text": [
      "Una operacion dentro de un print 9\n"
     ]
    }
   ],
   "source": [
    "print('Una operacion dentro de un print', 2+7)"
   ]
  },
  {
   "cell_type": "code",
   "execution_count": 10,
   "id": "7594bef0-f16c-4e26-900b-6abdebd5d81d",
   "metadata": {
    "tags": []
   },
   "outputs": [
    {
     "name": "stdout",
     "output_type": "stream",
     "text": [
      "Despleagando \"hi\"      in quotes\n"
     ]
    }
   ],
   "source": [
    "print('Despleagando \"hi\"      in quotes')"
   ]
  },
  {
   "cell_type": "code",
   "execution_count": 11,
   "id": "b088491f-5f65-40fc-9d39-e4b56715db1f",
   "metadata": {
    "tags": []
   },
   "outputs": [
    {
     "ename": "SyntaxError",
     "evalue": "invalid syntax. Perhaps you forgot a comma? (3860831064.py, line 2)",
     "output_type": "error",
     "traceback": [
      "\u001b[0;36m  Cell \u001b[0;32mIn[11], line 2\u001b[0;36m\u001b[0m\n\u001b[0;31m    print('Desplegando 'hi' es quotes')\u001b[0m\n\u001b[0m          ^\u001b[0m\n\u001b[0;31mSyntaxError\u001b[0m\u001b[0;31m:\u001b[0m invalid syntax. Perhaps you forgot a comma?\n"
     ]
    }
   ],
   "source": [
    "# error cuando se utiliza ambos tipos de comillas\n",
    "print('Desplegando 'hi' es quotes')"
   ]
  },
  {
   "cell_type": "code",
   "execution_count": 12,
   "id": "f0b47314-7fe8-4d1c-a09a-20f76574dd22",
   "metadata": {
    "tags": []
   },
   "outputs": [
    {
     "name": "stdout",
     "output_type": "stream",
     "text": [
      "Desplegando 'Hi' en quotes\n"
     ]
    }
   ],
   "source": [
    "# Corrigiendo el anterior codigo\n",
    "print('Desplegando \\'Hi\\' en quotes')"
   ]
  },
  {
   "cell_type": "code",
   "execution_count": 13,
   "id": "0d8e88b6-0d09-4599-87f4-c1ed2ef9d9e5",
   "metadata": {
    "tags": []
   },
   "outputs": [],
   "source": [
    "variable_cadena_triple = \"\"\" This is a triple-quoted\n",
    "string that spans two lines\"\"\""
   ]
  },
  {
   "cell_type": "code",
   "execution_count": 14,
   "id": "051a8a4d-5608-4151-b373-288b74a45e77",
   "metadata": {
    "tags": []
   },
   "outputs": [
    {
     "name": "stdout",
     "output_type": "stream",
     "text": [
      " This is a triple-quoted\n",
      "string that spans two lines\n"
     ]
    }
   ],
   "source": [
    "print(variable_cadena_triple)"
   ]
  },
  {
   "cell_type": "markdown",
   "id": "606bbbfc-214d-4507-9c3c-422141aff117",
   "metadata": {},
   "source": [
    "## Entrada de variables por usuario\n",
    "- input function"
   ]
  },
  {
   "cell_type": "code",
   "execution_count": 15,
   "id": "ea95c9b4-a699-4aef-9e25-235c8cf4dc7c",
   "metadata": {
    "tags": []
   },
   "outputs": [
    {
     "name": "stdin",
     "output_type": "stream",
     "text": [
      "What's yor name?  Cristhian Wilsson\n"
     ]
    },
    {
     "name": "stdout",
     "output_type": "stream",
     "text": [
      "Cristhian Wilsson\n"
     ]
    }
   ],
   "source": [
    "name = input(\"What's yor name? \")\n",
    "print(name)"
   ]
  },
  {
   "cell_type": "code",
   "execution_count": 16,
   "id": "0009234e-1313-41c1-91dc-6dcd2b7a9f09",
   "metadata": {
    "tags": []
   },
   "outputs": [
    {
     "name": "stdin",
     "output_type": "stream",
     "text": [
      "Ingresa tu edad:  20\n"
     ]
    },
    {
     "name": "stdout",
     "output_type": "stream",
     "text": [
      "Mi edad es:  20 <class 'int'>\n"
     ]
    }
   ],
   "source": [
    "# La funsion input() siempre devuelve un string\n",
    "# para retorno de enteros:\n",
    "edad = input('Ingresa tu edad: ')\n",
    "edad = int(edad)\n",
    "print('Mi edad es: ', edad, type(edad))"
   ]
  },
  {
   "cell_type": "markdown",
   "id": "c8579764-fb07-4d43-9290-ac1769d07e5c",
   "metadata": {},
   "source": [
    "## Comparacion de operadores\n",
    "- \\> x>y x es mayor a y\n",
    "- \\< x<y x es menor a y\n",
    "- \\>= x>=y x es mayor o igual a y\n",
    "- \\<= x<=y x es menor o igual a y\n",
    "- == x==y x es igual a y"
   ]
  },
  {
   "cell_type": "code",
   "execution_count": 17,
   "id": "15ccaca4-b004-4108-ae00-056272e22759",
   "metadata": {
    "tags": []
   },
   "outputs": [
    {
     "name": "stdin",
     "output_type": "stream",
     "text": [
      "Ingrese el valor 1:  3\n",
      "ingrese el valor 2:  9\n"
     ]
    },
    {
     "name": "stdout",
     "output_type": "stream",
     "text": [
      "3 es diferente a  9\n",
      "3 es menor a  9\n",
      "3  es menor o igual a  9\n"
     ]
    }
   ],
   "source": [
    "# ejemplo de comparaciones\n",
    "number1 = int(input('Ingrese el valor 1: '))\n",
    "number2 = int(input('ingrese el valor 2: '))\n",
    "if number1 == number2: print(number1, 'es igual a ', number2)\n",
    "if number1 != number2: print(number1, 'es diferente a ', number2)\n",
    "if number1 < number2 : print(number1, 'es menor a ', number2)\n",
    "if number1 > number2 : print(number1, 'es mayor a ', number2)\n",
    "if number1 <= number2 : print(number1, ' es menor o igual a ', number2)\n",
    "if number1 >= number2 : print(number1, ' es mayor o igual a ', number2)"
   ]
  },
  {
   "cell_type": "code",
   "execution_count": 19,
   "id": "145b37aa-54e4-48ae-b79b-d8216645db1a",
   "metadata": {
    "tags": []
   },
   "outputs": [
    {
     "name": "stdin",
     "output_type": "stream",
     "text": [
      "ingrese num:  4\n"
     ]
    },
    {
     "name": "stdout",
     "output_type": "stream",
     "text": [
      "4  esta en el rango de 1-5\n"
     ]
    }
   ],
   "source": [
    "x = int(input('ingrese num: '))\n",
    "if 1<=x<=5 :\n",
    "    print(x, ' esta en el rango de 1-5')\n",
    "else:\n",
    "    print('fuera de rango')"
   ]
  },
  {
   "cell_type": "markdown",
   "id": "8edd61a6-6f09-4b09-87f9-ebdf47bda96f",
   "metadata": {},
   "source": [
    "- The precedence of the Operators we've presented so far\n",
    "- () left to right\n",
    "- ** right to left\n",
    "- * / // % left to risht\n",
    "- +- left to right\n",
    "- <, >, <=, >= left to right\n",
    "- ==, != left to right"
   ]
  },
  {
   "cell_type": "markdown",
   "id": "ee923d72-b2ed-402e-8718-43a5e19d17d3",
   "metadata": {},
   "source": [
    "### Estadistica descriptiva\n",
    "- minimun: the smallest value in a collection of values.\n",
    "- maximun: the largest value in a collection of values.\n",
    "- range: the range of values from the minimum to the maximun.\n",
    "- count: the number of values in a collection.\n",
    "- sum: the total of the values in a collection."
   ]
  },
  {
   "cell_type": "code",
   "execution_count": 20,
   "id": "f28f0fbe-fb56-47e2-b9bd-ea5d6a3fe195",
   "metadata": {
    "tags": []
   },
   "outputs": [
    {
     "name": "stdin",
     "output_type": "stream",
     "text": [
      "Ingrese un valor entero:  4\n",
      "Ingrese un valor entero:  1\n",
      "Ingrese un valor entero:  9\n"
     ]
    },
    {
     "name": "stdout",
     "output_type": "stream",
     "text": [
      "El valor minimo de 4 1 9 es  1\n"
     ]
    }
   ],
   "source": [
    "# El minimo valor de 3 numeros\n",
    "number1 = int(input('Ingrese un valor entero: '))\n",
    "number2 = int(input('Ingrese un valor entero: '))\n",
    "number3 = int(input('Ingrese un valor entero: '))\n",
    "\n",
    "minimun = number1\n",
    "\n",
    "if number2 < number1:\n",
    "    minimun = number2\n",
    "if number3 < number1:\n",
    "    minimun = number3\n",
    "\n",
    "print('El valor minimo de', number1, number2, number3, 'es ', minimun)\n"
   ]
  },
  {
   "cell_type": "code",
   "execution_count": 22,
   "id": "d564aaf7-10b0-4791-ac1f-5e82b7c89cb8",
   "metadata": {
    "tags": []
   },
   "outputs": [
    {
     "name": "stdin",
     "output_type": "stream",
     "text": [
      "Ingrese un valor entero:  91\n",
      "Ingrese un valor entero:  121\n",
      "Ingrese un valor entero:  12\n"
     ]
    },
    {
     "name": "stdout",
     "output_type": "stream",
     "text": [
      "El valor minimo es:  12\n",
      "El valor maximo es:  121\n"
     ]
    }
   ],
   "source": [
    "# utilizando una funcion de python\n",
    "number1 = int(input('Ingrese un valor entero: '))\n",
    "number2 = int(input('Ingrese un valor entero: '))\n",
    "number3 = int(input('Ingrese un valor entero: '))\n",
    "# agregando funciones mara minimo y maximo\n",
    "minimun = min(number1, number2, number3)\n",
    "maximun = max(number1, number2, number3)\n",
    "\n",
    "print('El valor minimo es: ', minimun)\n",
    "print('El valor maximo es: ', maximun)"
   ]
  },
  {
   "cell_type": "code",
   "execution_count": 23,
   "id": "f2f50fc9-e3e3-4e50-9e51-bb08c71db43c",
   "metadata": {
    "tags": []
   },
   "outputs": [
    {
     "data": {
      "text/plain": [
       "False"
      ]
     },
     "execution_count": 23,
     "metadata": {},
     "output_type": "execute_result"
    }
   ],
   "source": [
    "2 == '2'"
   ]
  }
 ],
 "metadata": {
  "kernelspec": {
   "display_name": "Python 3 (ipykernel)",
   "language": "python",
   "name": "python3"
  },
  "language_info": {
   "codemirror_mode": {
    "name": "ipython",
    "version": 3
   },
   "file_extension": ".py",
   "mimetype": "text/x-python",
   "name": "python",
   "nbconvert_exporter": "python",
   "pygments_lexer": "ipython3",
   "version": "3.10.10"
  }
 },
 "nbformat": 4,
 "nbformat_minor": 5
}
