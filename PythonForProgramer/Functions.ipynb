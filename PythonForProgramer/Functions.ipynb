{
 "cells": [
  {
   "cell_type": "markdown",
   "id": "35d8b9ae-9430-4f7e-bfa2-4ff22ad756ab",
   "metadata": {},
   "source": [
    "# Functions"
   ]
  },
  {
   "cell_type": "code",
   "execution_count": null,
   "id": "f9cfe43a-5a8c-4cfc-bd21-9b68812e519b",
   "metadata": {},
   "outputs": [],
   "source": [
    "# Page 128"
   ]
  }
 ],
 "metadata": {
  "kernelspec": {
   "display_name": "Python 3 (ipykernel)",
   "language": "python",
   "name": "python3"
  },
  "language_info": {
   "codemirror_mode": {
    "name": "ipython",
    "version": 3
   },
   "file_extension": ".py",
   "mimetype": "text/x-python",
   "name": "python",
   "nbconvert_exporter": "python",
   "pygments_lexer": "ipython3",
   "version": "3.10.10"
  }
 },
 "nbformat": 4,
 "nbformat_minor": 5
}
