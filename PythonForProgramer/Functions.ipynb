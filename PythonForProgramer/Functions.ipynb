{
 "cells": [
  {
   "cell_type": "markdown",
   "id": "35d8b9ae-9430-4f7e-bfa2-4ff22ad756ab",
   "metadata": {},
   "source": [
    "# Functions"
   ]
  },
  {
   "cell_type": "code",
   "execution_count": 1,
   "id": "f9cfe43a-5a8c-4cfc-bd21-9b68812e519b",
   "metadata": {},
   "outputs": [
    {
     "name": "stdout",
     "output_type": "stream",
     "text": [
      "49 6.25\n"
     ]
    }
   ],
   "source": [
    "# Page 128\n",
    "def square(number):\n",
    "    \"\"\"Calculate the square of number.\"\"\"\n",
    "    return number**2\n",
    "\n",
    "print(square(7), square(2.5))"
   ]
  },
  {
   "cell_type": "code",
   "execution_count": 2,
   "id": "f6151216-ba72-4439-8b64-a44f96e3dcd5",
   "metadata": {
    "tags": []
   },
   "outputs": [
    {
     "data": {
      "text/plain": [
       "\u001b[0;31mSignature:\u001b[0m \u001b[0msquare\u001b[0m\u001b[0;34m(\u001b[0m\u001b[0mnumber\u001b[0m\u001b[0;34m)\u001b[0m\u001b[0;34m\u001b[0m\u001b[0;34m\u001b[0m\u001b[0m\n",
       "\u001b[0;31mDocstring:\u001b[0m Calculate the square of number.\n",
       "\u001b[0;31mFile:\u001b[0m      /tmp/ipykernel_4290/2115623449.py\n",
       "\u001b[0;31mType:\u001b[0m      function"
      ]
     },
     "metadata": {},
     "output_type": "display_data"
    }
   ],
   "source": [
    "square?"
   ]
  },
  {
   "cell_type": "code",
   "execution_count": 3,
   "id": "00e58e4c-15c2-4a15-9ef4-ce90dc735b2f",
   "metadata": {
    "tags": []
   },
   "outputs": [
    {
     "data": {
      "text/plain": [
       "\u001b[0;31mSignature:\u001b[0m \u001b[0msquare\u001b[0m\u001b[0;34m(\u001b[0m\u001b[0mnumber\u001b[0m\u001b[0;34m)\u001b[0m\u001b[0;34m\u001b[0m\u001b[0;34m\u001b[0m\u001b[0m\n",
       "\u001b[0;31mSource:\u001b[0m   \n",
       "\u001b[0;32mdef\u001b[0m \u001b[0msquare\u001b[0m\u001b[0;34m(\u001b[0m\u001b[0mnumber\u001b[0m\u001b[0;34m)\u001b[0m\u001b[0;34m:\u001b[0m\u001b[0;34m\u001b[0m\n",
       "\u001b[0;34m\u001b[0m    \u001b[0;34m\"\"\"Calculate the square of number.\"\"\"\u001b[0m\u001b[0;34m\u001b[0m\n",
       "\u001b[0;34m\u001b[0m    \u001b[0;32mreturn\u001b[0m \u001b[0mnumber\u001b[0m\u001b[0;34m**\u001b[0m\u001b[0;36m2\u001b[0m\u001b[0;34m\u001b[0m\u001b[0;34m\u001b[0m\u001b[0m\n",
       "\u001b[0;31mFile:\u001b[0m      /tmp/ipykernel_4290/2115623449.py\n",
       "\u001b[0;31mType:\u001b[0m      function"
      ]
     },
     "metadata": {},
     "output_type": "display_data"
    }
   ],
   "source": [
    "square??"
   ]
  },
  {
   "cell_type": "code",
   "execution_count": 7,
   "id": "4b201866-1f1d-4d86-98cb-d296eac961d5",
   "metadata": {
    "tags": []
   },
   "outputs": [
    {
     "name": "stdout",
     "output_type": "stream",
     "text": [
      "245\n"
     ]
    }
   ],
   "source": [
    "# Encontrando el maximo de 3 number\n",
    "def max_number(number1, number2, number3):\n",
    "    \"\"\"Return the maximum number of three numbers\"\"\"\n",
    "    max_value = number1\n",
    "    if number2 > max_value:\n",
    "        max_value = number2\n",
    "    if number3 > max_value:\n",
    "        max_value = number3\n",
    "    return max_value\n",
    "value_a = 245\n",
    "value_b = 100\n",
    "value_c = 165\n",
    "print(max_number(value_a, value_b, value_c))"
   ]
  },
  {
   "cell_type": "code",
   "execution_count": 8,
   "id": "5835eb85-bded-4483-9466-3e3ed73207b8",
   "metadata": {
    "tags": []
   },
   "outputs": [
    {
     "name": "stdout",
     "output_type": "stream",
     "text": [
      "2 6 5 3 2 6 1 6 6 5 "
     ]
    }
   ],
   "source": [
    "# practice random function\n",
    "import random\n",
    "#randrange function\n",
    "for i in range(0, 10):\n",
    "    print(random.randrange(1, 7), end=' ')"
   ]
  },
  {
   "cell_type": "code",
   "execution_count": 9,
   "id": "c34671eb-0148-4336-906f-6ad1cdfeb697",
   "metadata": {
    "tags": []
   },
   "outputs": [
    {
     "name": "stdout",
     "output_type": "stream",
     "text": [
      "Face    Frecuency\n",
      "   1       999573\n",
      "   2       999201\n",
      "   3       999318\n",
      "   4       999635\n",
      "   5      1000914\n",
      "   6      1001359\n"
     ]
    }
   ],
   "source": [
    "\"\"\"Roll a six-sided die 6,000,000 times.\"\"\"\n",
    "import random\n",
    "\n",
    "#Frecuency counters\n",
    "frecuency1 = 0\n",
    "frecuency2 = 0\n",
    "frecuency3 = 0\n",
    "frecuency4 = 0\n",
    "frecuency5 = 0\n",
    "frecuency6 = 0\n",
    "\n",
    "for roll in range(6_000_000):\n",
    "    face = random.randrange(1, 7)\n",
    "    if face == 1:\n",
    "        frecuency1 += 1\n",
    "    elif face == 2:\n",
    "        frecuency2 += 1\n",
    "    elif face == 3:\n",
    "        frecuency3 += 1\n",
    "    elif face == 4:\n",
    "        frecuency4 += 1\n",
    "    elif face == 5:\n",
    "        frecuency5 += 1\n",
    "    elif face == 6:\n",
    "        frecuency6 += 1\n",
    "print(f'Face{\"Frecuency\":>13}')\n",
    "print(f'{1:>4}{frecuency1:>13}')\n",
    "print(f'{2:>4}{frecuency2:>13}')\n",
    "print(f'{3:>4}{frecuency3:>13}')\n",
    "print(f'{4:>4}{frecuency4:>13}')\n",
    "print(f'{5:>4}{frecuency5:>13}')\n",
    "print(f'{6:>4}{frecuency6:>13}')"
   ]
  },
  {
   "cell_type": "code",
   "execution_count": null,
   "id": "2f160281-8af3-4e30-8e2f-662439cbdfcd",
   "metadata": {
    "tags": []
   },
   "outputs": [],
   "source": []
  }
 ],
 "metadata": {
  "kernelspec": {
   "display_name": "Python 3 (ipykernel)",
   "language": "python",
   "name": "python3"
  },
  "language_info": {
   "codemirror_mode": {
    "name": "ipython",
    "version": 3
   },
   "file_extension": ".py",
   "mimetype": "text/x-python",
   "name": "python",
   "nbconvert_exporter": "python",
   "pygments_lexer": "ipython3",
   "version": "3.10.10"
  }
 },
 "nbformat": 4,
 "nbformat_minor": 5
}
