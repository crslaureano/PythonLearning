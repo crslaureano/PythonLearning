{
 "cells": [
  {
   "cell_type": "code",
   "execution_count": 2,
   "id": "1f58f33e-621f-44d3-bfae-74ed1ee88594",
   "metadata": {
    "tags": []
   },
   "outputs": [
    {
     "data": {
      "text/plain": [
       "'\\nPython keywords\\n---------------\\n\\nand as assert async await\\nbreak class continue def del\\nelif else except False finally\\nfor from global if import\\nin is lambda None nonlocal\\nnot or pass raise return\\nTrue try while with yield\\n'"
      ]
     },
     "execution_count": 2,
     "metadata": {},
     "output_type": "execute_result"
    }
   ],
   "source": [
    "\"\"\"\n",
    "Python keywords\n",
    "---------------\n",
    "\n",
    "and as assert async await\n",
    "break class continue def del\n",
    "elif else except False finally\n",
    "for from global if import\n",
    "in is lambda None nonlocal\n",
    "not or pass raise return\n",
    "True try while with yield\n",
    "\"\"\""
   ]
  },
  {
   "cell_type": "markdown",
   "id": "86c63629-537d-491b-8b9f-4ade7dd4d2d7",
   "metadata": {},
   "source": [
    "# IF statement"
   ]
  },
  {
   "cell_type": "code",
   "execution_count": 3,
   "id": "55f7c313-60a9-44df-b7a1-27422ea73fa7",
   "metadata": {
    "tags": []
   },
   "outputs": [
    {
     "name": "stdout",
     "output_type": "stream",
     "text": [
      "Passed\n"
     ]
    }
   ],
   "source": [
    "grade = 85\n",
    "if grade >= 60:\n",
    "    print('Passed')"
   ]
  },
  {
   "cell_type": "code",
   "execution_count": 4,
   "id": "6c3eebba-11ff-4a99-939e-90a7e61341fd",
   "metadata": {
    "tags": []
   },
   "outputs": [
    {
     "name": "stdout",
     "output_type": "stream",
     "text": [
      "Passed\n"
     ]
    }
   ],
   "source": [
    "grade = 85\n",
    "if grade >= 60: # En condicionales por lo general un valor tipo TRUE\n",
    "    print('Passed')\n",
    "else: # En el caso de que sea FALSO\n",
    "    print('Failed')"
   ]
  },
  {
   "cell_type": "code",
   "execution_count": 5,
   "id": "8515a4f4-bacb-4d02-bb63-eb43c2cebb2e",
   "metadata": {
    "tags": []
   },
   "outputs": [
    {
     "name": "stdout",
     "output_type": "stream",
     "text": [
      "Failed\n"
     ]
    }
   ],
   "source": [
    "# Asignacion de variables por la condicional\n",
    "grade = 12\n",
    "if grade >= 60:\n",
    "    result = 'Passed'\n",
    "else:\n",
    "    result = 'Failed'\n",
    "print(result)"
   ]
  },
  {
   "cell_type": "code",
   "execution_count": 10,
   "id": "2c794c6e-b6a8-4f58-aa88-cc7d8dfb238f",
   "metadata": {
    "tags": []
   },
   "outputs": [
    {
     "name": "stdout",
     "output_type": "stream",
     "text": [
      "Failed <class 'str'>\n"
     ]
    }
   ],
   "source": [
    "grade = 45\n",
    "#result = ('Passed' if grade > 60 else 'Failed')\n",
    "result = 'Passed' if grade > 60 else 'Failed' # El uso del parentesis no es condicional\n",
    "print(result, type(result))"
   ]
  },
  {
   "cell_type": "code",
   "execution_count": 13,
   "id": "47e8366c-51c6-4d18-8b96-215e6bb81220",
   "metadata": {
    "tags": []
   },
   "outputs": [
    {
     "name": "stdout",
     "output_type": "stream",
     "text": [
      "C\n"
     ]
    }
   ],
   "source": [
    "grade = 77\n",
    "# Para que las condiciones funciones realizarlo de mayor a menor en las condicionales.\n",
    "if grade >= 90:\n",
    "    result = 'A'\n",
    "elif grade >= 80:\n",
    "    result = 'B'\n",
    "elif grade >= 70:\n",
    "    result = 'C'\n",
    "elif grade >= 60:\n",
    "    result = 'D'\n",
    "else: # Para condicionales else es opcional no es obligatorio\n",
    "    result = 'F'\n",
    "print(result)"
   ]
  },
  {
   "cell_type": "markdown",
   "id": "31794a92-f80b-469f-a987-6779c4cce575",
   "metadata": {},
   "source": [
    "# WHILE STATEMENT\n",
    "- Mientras la condicion en while sea verdadera se ejecutara el codigo dentro de while.\n",
    "- Tambien es elegible la opcion del *else* para while"
   ]
  },
  {
   "cell_type": "code",
   "execution_count": 15,
   "id": "c4998a1d-44fb-4d6b-90ec-6e7d908c0bd4",
   "metadata": {
    "tags": []
   },
   "outputs": [
    {
     "name": "stdout",
     "output_type": "stream",
     "text": [
      "3\n",
      "9\n",
      "27\n",
      "\n",
      "81\n"
     ]
    }
   ],
   "source": [
    "product = 3\n",
    "\n",
    "while product <= 50:\n",
    "    print(product)\n",
    "    product *= 3\n",
    "print()\n",
    "print(product)"
   ]
  },
  {
   "cell_type": "markdown",
   "id": "c634a34c-6529-4dfa-8083-3e838fb07476",
   "metadata": {},
   "source": [
    "# FOR STATEMENT"
   ]
  },
  {
   "cell_type": "code",
   "execution_count": 16,
   "id": "2fe8f20e-0c54-4b2e-b089-bf1150dd4993",
   "metadata": {
    "tags": []
   },
   "outputs": [
    {
     "name": "stdout",
     "output_type": "stream",
     "text": [
      "I\n",
      "a\n",
      "m\n",
      "P\n",
      "r\n",
      "o\n",
      "g\n",
      "r\n",
      "a\n",
      "m\n",
      "e\n",
      "r\n"
     ]
    }
   ],
   "source": [
    "for character in 'IamProgramer':\n",
    "    print(character)"
   ]
  },
  {
   "cell_type": "code",
   "execution_count": 17,
   "id": "f238fb1f-bd74-4951-9a68-e1432d1e4d59",
   "metadata": {
    "tags": []
   },
   "outputs": [
    {
     "name": "stdout",
     "output_type": "stream",
     "text": [
      "29\n"
     ]
    }
   ],
   "source": [
    "# iterando una lista de numeros\n",
    "\n",
    "total = 0\n",
    "\n",
    "for number in [1, 5, 3, 5, 9, 2, 4]:\n",
    "    total += number # realiza la suma del conjunto de numeros\n",
    "print(total)"
   ]
  },
  {
   "cell_type": "code",
   "execution_count": 19,
   "id": "4df55d14-bc49-4e65-a532-3018b67c383e",
   "metadata": {
    "tags": []
   },
   "outputs": [
    {
     "name": "stdout",
     "output_type": "stream",
     "text": [
      "0 1 2 3 4 5 6 7 8 9 "
     ]
    }
   ],
   "source": [
    "# la funcion range() retorna un objeto iterable en secuencia\n",
    "for counter in range(0, 10):\n",
    "    print(counter, end=' ')"
   ]
  },
  {
   "cell_type": "code",
   "execution_count": 20,
   "id": "715d0f13-9d9b-4edc-90c9-ecdc8a3ec5cf",
   "metadata": {
    "tags": []
   },
   "outputs": [
    {
     "name": "stdout",
     "output_type": "stream",
     "text": [
      "0 2 4 6 8 "
     ]
    }
   ],
   "source": [
    "# objeto iterable para pares\n",
    "for counter in range(0, 10, 2):\n",
    "    print(counter, end=' ')"
   ]
  },
  {
   "cell_type": "code",
   "execution_count": 21,
   "id": "59dbf561-fc66-4917-ace4-7c3494366c12",
   "metadata": {
    "tags": []
   },
   "outputs": [
    {
     "name": "stdout",
     "output_type": "stream",
     "text": [
      "1 3 5 7 9 "
     ]
    }
   ],
   "source": [
    "# objeto iterable para impares\n",
    "for counter in range(1, 10, 2):\n",
    "    print(counter, end=' ')"
   ]
  },
  {
   "cell_type": "markdown",
   "id": "39aef2b5-87d7-4f55-a236-3186c96500e1",
   "metadata": {},
   "source": [
    "> Para el cambio de pares o impares solo se vio en el inicio de la funcion range(), 0 para par y 1 para impar avanzando de 2 en 2."
   ]
  },
  {
   "cell_type": "code",
   "execution_count": 24,
   "id": "ce8bff40-ef81-4b8c-b264-e9093f0559e1",
   "metadata": {
    "tags": []
   },
   "outputs": [
    {
     "name": "stdin",
     "output_type": "stream",
     "text": [
      "number:  9\n"
     ]
    },
    {
     "name": "stdout",
     "output_type": "stream",
     "text": [
      "1 3 5 7 "
     ]
    }
   ],
   "source": [
    "# recorrido de par o impar segun el ingreso del usuario\n",
    "number = int(input('number: '))\n",
    "recorrido = (0 if number%2 == 0 else 1)\n",
    "for i in range(recorrido, number, 2):\n",
    "    print(i, end=' ')"
   ]
  },
  {
   "cell_type": "markdown",
   "id": "aa40b6e3-6a98-4ebe-bfad-99cb29a068e5",
   "metadata": {},
   "source": [
    "### Introduction to Formatted Strings"
   ]
  },
  {
   "cell_type": "code",
   "execution_count": 31,
   "id": "74dceb6d-9198-4401-8d3f-1650a1c378f8",
   "metadata": {
    "tags": []
   },
   "outputs": [
    {
     "name": "stdin",
     "output_type": "stream",
     "text": [
      "Your name?  Diana\n",
      "How old are you?  25\n"
     ]
    },
    {
     "name": "stdout",
     "output_type": "stream",
     "text": [
      "Hello Diana, your age is 25, te encuentras a los 54\n"
     ]
    }
   ],
   "source": [
    "import random\n",
    "name = input('Your name? ')\n",
    "date = input('How old are you? ')\n",
    "grade = [23, 54, 26, 96, 58, 94, 75, 34]\n",
    "\n",
    "print(f'Hello {name}, your age is {date}, te encuentras a los {grade[random.randint(0, len(grade))]}') "
   ]
  },
  {
   "cell_type": "code",
   "execution_count": 35,
   "id": "82ab4f50-a780-4b02-8911-b0aa29f0cf16",
   "metadata": {
    "tags": []
   },
   "outputs": [
    {
     "name": "stdin",
     "output_type": "stream",
     "text": [
      "grade?  12\n",
      "grade?  42\n",
      "grade?  54\n",
      "grade?  36\n",
      "grade?  57\n",
      "grade?  90\n",
      "grade?  34\n",
      "grade?  64\n",
      "grade?  71\n",
      "grade?  83\n",
      "grade?  29\n",
      "grade?  -1\n"
     ]
    },
    {
     "name": "stdout",
     "output_type": "stream",
     "text": [
      "Class average is 52.00\n"
     ]
    }
   ],
   "source": [
    "# Implementando un sentinela con while\n",
    "total = 0\n",
    "grade_counter = 0\n",
    "\n",
    "grade = int(input('grade? '))\n",
    "\n",
    "while grade != -1: # insertando sentinela -1\n",
    "    total += grade\n",
    "    grade_counter += 1\n",
    "    grade = int(input('grade? '))\n",
    "\n",
    "if grade_counter != 0:\n",
    "    average = total / grade_counter # promedio\n",
    "    print(f'Class average is {average:.2f}')# .2f el formato del resultado sera con solo 2 decimales\n",
    "else:\n",
    "    print('No grade were entered')"
   ]
  },
  {
   "cell_type": "markdown",
   "id": "9a3e6767-3db9-4640-a8ef-9605491be0a3",
   "metadata": {},
   "source": [
    "### Break and continue statements "
   ]
  },
  {
   "cell_type": "code",
   "execution_count": 1,
   "id": "932d0232-f9ba-4def-8b80-c0c9479ad55e",
   "metadata": {
    "tags": []
   },
   "outputs": [
    {
     "name": "stdout",
     "output_type": "stream",
     "text": [
      "0 2 4 6 8 10 12 14 16 18 20 22 24 26 28 30 32 34 36 38 40 42 44 46 48 50 52 54 56 58 60 62 64 66 68 70 72 74 76 78 80 82 84 86 88 90 92 94 96 98 "
     ]
    }
   ],
   "source": [
    "# muestra solo numeros pares\n",
    "for i in range(0, 100):\n",
    "    if i%2 == 0:\n",
    "        print(i, end=' ')\n",
    "    else:\n",
    "        continue"
   ]
  },
  {
   "cell_type": "code",
   "execution_count": 2,
   "id": "b508a058-d9fb-47a0-9591-f5103b39e358",
   "metadata": {
    "tags": []
   },
   "outputs": [
    {
     "name": "stdout",
     "output_type": "stream",
     "text": [
      "1 3 5 7 9 11 13 15 17 19 21 23 25 27 29 31 33 35 37 39 41 43 45 47 49 51 53 55 57 59 61 63 65 67 69 71 73 75 77 79 81 83 85 87 89 91 93 95 97 99 "
     ]
    }
   ],
   "source": [
    "# muestra solo numeros impares\n",
    "for i in range(0, 100):\n",
    "    if i%2 != 0:\n",
    "        print(i, end=' ')\n",
    "    else:\n",
    "        continue"
   ]
  },
  {
   "cell_type": "code",
   "execution_count": 4,
   "id": "f61b5793-8d86-4886-8c70-2caa283a4386",
   "metadata": {
    "tags": []
   },
   "outputs": [
    {
     "name": "stdout",
     "output_type": "stream",
     "text": [
      "0 1 2 3 4 5 6 7 8 9 10 11 12 13 14 15 16 17 18 19 20 21 22 23 24 25 26 27 28 29 30 31 32 33 34 35 36 37 38 39 40 41 42 43 44 45 46 47 48 49 "
     ]
    }
   ],
   "source": [
    "for number in range(0, 100):\n",
    "    if number == 50:\n",
    "        break\n",
    "    print(number, end=' ')"
   ]
  },
  {
   "cell_type": "markdown",
   "id": "38867402-de37-44c0-b168-b2c8cd50222e",
   "metadata": {},
   "source": [
    "### Tendencias: mean, median and mode\n",
    "- mean: the avarage value in a set of values.\n",
    "- median: the middle value when all the values are arranged in sorted order.\n",
    "- mode: the most frequently occurring value."
   ]
  },
  {
   "cell_type": "code",
   "execution_count": 5,
   "id": "aecc1498-3038-4e3d-90d1-86a859929149",
   "metadata": {
    "tags": []
   },
   "outputs": [
    {
     "name": "stdout",
     "output_type": "stream",
     "text": [
      "Media: 5\n",
      "Mediana: 4.5\n",
      "Mode: 9\n"
     ]
    }
   ],
   "source": [
    "# import statistics function for mean, median and mode\n",
    "import statistics\n",
    "grade = [9, 5, 2, 4]\n",
    "print(f'Media: {statistics.mean(grade)}')\n",
    "print(f'Mediana: {statistics.median(grade)}')\n",
    "print(f'Mode: {statistics.mode(grade)}')"
   ]
  },
  {
   "cell_type": "code",
   "execution_count": 8,
   "id": "e18408df-b26a-4704-be73-656252ad66c3",
   "metadata": {
    "tags": []
   },
   "outputs": [
    {
     "name": "stdout",
     "output_type": "stream",
     "text": [
      "Media: 4.2\n",
      "Mediana: 4\n",
      "Mode: 9\n"
     ]
    }
   ],
   "source": [
    "grade = [9, 5, 1, 2, 4]\n",
    "print(f'Media: {statistics.mean(grade)}')\n",
    "print(f'Mediana: {statistics.median(grade)}')\n",
    "print(f'Mode: {statistics.mode(grade)}')"
   ]
  },
  {
   "cell_type": "markdown",
   "id": "9f19e7d0-e3ee-4df4-ba01-1152e00ef480",
   "metadata": {},
   "source": [
    "> Los sentinelas solo utilizarlos con while"
   ]
  },
  {
   "cell_type": "code",
   "execution_count": 2,
   "id": "6b79a3d8-6c54-4dee-9c45-5535481fe396",
   "metadata": {
    "tags": []
   },
   "outputs": [
    {
     "name": "stdin",
     "output_type": "stream",
     "text": [
      ">  1\n",
      ">  1\n",
      ">  5\n",
      ">  34\n",
      ">  7\n",
      ">  89\n",
      ">  4\n",
      ">  5\n",
      ">  67\n",
      ">  2\n",
      ">  5\n",
      ">  6\n",
      ">  87\n",
      ">  -1\n"
     ]
    },
    {
     "name": "stdout",
     "output_type": "stream",
     "text": [
      "Grade llenado con los datos\n",
      "[1, 1, 5, 34, 7, 89, 4, 5, 67, 2, 5, 6, 87]\n",
      "Media: 24.08, Mediana: 5, Moda: 5\n"
     ]
    }
   ],
   "source": [
    "# ejemplo con while\n",
    "import statistics\n",
    "grade = list()\n",
    "number = int(input('> '))\n",
    "while number != -1:\n",
    "    grade.append(number)\n",
    "    number = int(input('> '))\n",
    "else:\n",
    "    print('Grade llenado con los datos')\n",
    "print(grade)\n",
    "print(f'Media: {statistics.mean(grade):.2f}, Mediana: {statistics.median(grade)}, Moda: {statistics.mode(grade)}')"
   ]
  }
 ],
 "metadata": {
  "kernelspec": {
   "display_name": "Python 3 (ipykernel)",
   "language": "python",
   "name": "python3"
  },
  "language_info": {
   "codemirror_mode": {
    "name": "ipython",
    "version": 3
   },
   "file_extension": ".py",
   "mimetype": "text/x-python",
   "name": "python",
   "nbconvert_exporter": "python",
   "pygments_lexer": "ipython3",
   "version": "3.10.10"
  }
 },
 "nbformat": 4,
 "nbformat_minor": 5
}
