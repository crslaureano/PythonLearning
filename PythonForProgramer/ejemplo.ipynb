{
 "cells": [
  {
   "cell_type": "code",
   "execution_count": 3,
   "id": "f934af3d-c570-4faf-9708-466a3cbe440f",
   "metadata": {
    "tags": []
   },
   "outputs": [
    {
     "name": "stdout",
     "output_type": "stream",
     "text": [
      "Id      Name        LName         Year\n"
     ]
    }
   ],
   "source": [
    "print(f'Id{\"Name\":>10}{\"LName\":>13}{\"Year\":>13}')"
   ]
  },
  {
   "cell_type": "code",
   "execution_count": 23,
   "id": "8c279d50-fdff-4e9d-9fbf-13fac79b93be",
   "metadata": {
    "tags": []
   },
   "outputs": [
    {
     "name": "stdout",
     "output_type": "stream",
     "text": [
      "Player rolled 2 + 5 = 7\n",
      "Player win!!!\n"
     ]
    }
   ],
   "source": [
    "import random\n",
    "\n",
    "def roll_dice():\n",
    "    diel1 = random.randrange(1, 7)\n",
    "    diel2 = random.randrange(1, 7)\n",
    "    return (diel1, diel2)\n",
    "\n",
    "def display_dice(dice):\n",
    "    diel1, diel2 = dice\n",
    "    print(f'Player rolled {diel1} + {diel2} = {sum(dice)}')\n",
    "\n",
    "# Primera partida\n",
    "die_evalue = roll_dice()\n",
    "display_dice(die_evalue)\n",
    "\n",
    "sum_of_dice = sum(die_evalue)\n",
    "\n",
    "if sum_of_dice in (7, 10):\n",
    "    game_status = 'WIN'\n",
    "elif sum_of_dice in (2, 3, 12):\n",
    "    game_status = 'LOST'\n",
    "else:\n",
    "    game_status = 'CONTINUE'\n",
    "    my_point = sum_of_dice\n",
    "    print('Point: ', my_point)\n",
    "\n",
    "# Caso continue\n",
    "while game_status == 'CONTINUE':\n",
    "    die_evalue = roll_dice()\n",
    "    display_dice(die_evalue)\n",
    "    sum_of_dicem = sum(die_evalue)\n",
    "    \n",
    "    if sum_of_dice == my_point:\n",
    "        game_status = 'WIN'\n",
    "    elif sum_of_dicem == 7:\n",
    "        game_status = 'LOST'\n",
    "\n",
    "if game_status == 'WIN':\n",
    "    print('Player win!!!')\n",
    "else:\n",
    "    print('Player lose')\n",
    "    \n",
    "    "
   ]
  }
 ],
 "metadata": {
  "kernelspec": {
   "display_name": "Python 3 (ipykernel)",
   "language": "python",
   "name": "python3"
  },
  "language_info": {
   "codemirror_mode": {
    "name": "ipython",
    "version": 3
   },
   "file_extension": ".py",
   "mimetype": "text/x-python",
   "name": "python",
   "nbconvert_exporter": "python",
   "pygments_lexer": "ipython3",
   "version": "3.10.10"
  }
 },
 "nbformat": 4,
 "nbformat_minor": 5
}
