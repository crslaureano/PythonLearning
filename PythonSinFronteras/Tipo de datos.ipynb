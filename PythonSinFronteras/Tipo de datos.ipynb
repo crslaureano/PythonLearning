{
 "cells": [
  {
   "cell_type": "markdown",
   "id": "d28b6364",
   "metadata": {},
   "source": [
    "# Tipos de datos en Python"
   ]
  },
  {
   "cell_type": "code",
   "execution_count": 1,
   "id": "e923c431",
   "metadata": {},
   "outputs": [],
   "source": [
    "# String\n",
    "palabra = 'Hola Mundo' #definicion de un string con comillas simples\n",
    "palabra2 = \"Hola Mundo\" #definicion de un string con comillas dobles"
   ]
  },
  {
   "cell_type": "code",
   "execution_count": 2,
   "id": "1f6a20ca",
   "metadata": {},
   "outputs": [],
   "source": [
    "# Numbers\n",
    "entero = 20 #int\n",
    "condecimales = 20.2 #float\n",
    "complejo = 1j"
   ]
  },
  {
   "cell_type": "code",
   "execution_count": 3,
   "id": "ddf03d26",
   "metadata": {},
   "outputs": [
    {
     "name": "stdout",
     "output_type": "stream",
     "text": [
      "Hola Mundo 20 20.2 1j\n"
     ]
    }
   ],
   "source": [
    "print(palabra, entero, condecimales, complejo)"
   ]
  },
  {
   "cell_type": "code",
   "execution_count": 7,
   "id": "528f156d",
   "metadata": {},
   "outputs": [],
   "source": [
    "# Listas\n",
    "# definicion de listas\n",
    "lista = list() # Lista vacia\n",
    "lista2 = [] # Lista vacia\n",
    "listacontenido = [1, 2, 3]\n",
    "# Metodos de listas\n",
    "listacontenido.append('a') # agrega un elemento a una lista en la parte final\n",
    "listacontenido.clear() # limpia todo el contenido de la lista\n",
    "listacontenido2 = listacontenido.copy() # realiza una copia de listacontenido,no se muestran cambios si se configura una lista a otra.\n",
    "listacontenido.count(3) # devuelve la cantidad de veces repetidas de un elemento en una lista\n",
    "len(listacontenido) # devuelve el numero de elementos de una lista\n",
    "\n",
    "#  Contando una lista y asignando una variable\n",
    "largolista = len(listacontenido)\n",
    "largolista2 = len(listacontenido2)"
   ]
  },
  {
   "cell_type": "code",
   "execution_count": 9,
   "id": "1319861a",
   "metadata": {},
   "outputs": [
    {
     "name": "stdout",
     "output_type": "stream",
     "text": [
      "['Hola', 'como', 'estas', 'mi', 'nombre', 'es', 'cristhian', 'laureano']\n",
      "Hola\n"
     ]
    }
   ],
   "source": [
    "# Como se realiza el conteo de una lista\n",
    "frase = \"Hola como estas mi nombre es cristhian laureano\"\n",
    "lista_frase = frase.split(' ')\n",
    "print(lista_frase)\n",
    "# Toda lista inicia contando desde 0 no desde 1\n",
    "print(lista_frase[0])"
   ]
  },
  {
   "cell_type": "code",
   "execution_count": 10,
   "id": "82c99c54",
   "metadata": {},
   "outputs": [
    {
     "name": "stdout",
     "output_type": "stream",
     "text": [
      "['Hola', 'como', 'estas', 'mi', 'nombre', 'es', 'cristhian']\n",
      "['como', 'estas', 'mi', 'nombre', 'es', 'cristhian']\n"
     ]
    }
   ],
   "source": [
    "# Eliminando elementos de una lista\n",
    "lista_frase.pop() # elimina el ultimo elemento de una lista\n",
    "print(lista_frase)\n",
    "lista_frase.remove('Hola') # elimina la primera coincidencia del caracter ingresado a remoe\n",
    "print(lista_frase)"
   ]
  },
  {
   "cell_type": "code",
   "execution_count": 12,
   "id": "eaf4141a",
   "metadata": {},
   "outputs": [
    {
     "name": "stdout",
     "output_type": "stream",
     "text": [
      "['como', 'estas', 'mi', 'nombre', 'es', 'cristhian']\n",
      "[]\n"
     ]
    }
   ],
   "source": [
    "# oredenamiento de listas\n",
    "lista_frase.reverse() # ordena la lista de manera inversa\n",
    "print(lista_frase)\n",
    "lista.sort() # solo funciona con los mismos tipos de datos de una lista\n",
    "print(lista)\n"
   ]
  },
  {
   "cell_type": "code",
   "execution_count": 15,
   "id": "bc9edbc8",
   "metadata": {},
   "outputs": [
    {
     "name": "stdout",
     "output_type": "stream",
     "text": [
      "Como\n",
      "['Hola', 'Mundo', 'Como', 'estas', '@crslaureano']\n"
     ]
    }
   ],
   "source": [
    "# Tuplas\n",
    "# diferencias con una lista, una vez creada una tupla no pueden modificarse es inmutable\n",
    "tupla = ('Hola', 'Mundo', 'Como', 'estas')\n",
    "# al igual que las listas para acceder al valor de una tupla es por medio de:\n",
    "print(tupla[2])\n",
    "tupla.index('Mundo') # devuelve el indice del elemento a consultar\n",
    "\n",
    "# modificar una tupla necesariamente hay que convertir a una lista\n",
    "listaDeTupla = list(tupla)\n",
    "listaDeTupla.append('@crslaureano')\n",
    "print(listaDeTupla)"
   ]
  },
  {
   "cell_type": "code",
   "execution_count": 16,
   "id": "aa43e705",
   "metadata": {},
   "outputs": [
    {
     "name": "stdout",
     "output_type": "stream",
     "text": [
      "range(0, 6)\n"
     ]
    }
   ],
   "source": [
    "# Range\n",
    "rango = range(6) # indicamos la longitud de un rango\n",
    "print(rango)"
   ]
  },
  {
   "cell_type": "code",
   "execution_count": 24,
   "id": "cfd6cddc",
   "metadata": {},
   "outputs": [
    {
     "name": "stdout",
     "output_type": "stream",
     "text": [
      "{'nombre': 'Peluza', 'raza': 'Mixta', 'edad': 1.4}\n"
     ]
    }
   ],
   "source": [
    "# Diccionarios\n",
    "diccionario = {} # agregando un diccionario vacio\n",
    "diccionario = dict() # diccionario vacio\n",
    "diccionario = {\n",
    "    \"nombre\" : \"Peluza\",\n",
    "    \"raza\" : \"Mixta\",\n",
    "    \"edad\" : 1.4\n",
    "}\n",
    "print(diccionario)"
   ]
  },
  {
   "cell_type": "code",
   "execution_count": 20,
   "id": "b4cf4457",
   "metadata": {},
   "outputs": [
    {
     "name": "stdout",
     "output_type": "stream",
     "text": [
      "Peluza\n",
      "Mixta\n",
      "{'nombre': 'Peluza', 'raza': 'Pura', 'edad': 1.4}\n"
     ]
    }
   ],
   "source": [
    "# accediendo valores del diccionario\n",
    "print(diccionario[\"nombre\"])\n",
    "print(diccionario.get(\"raza\"))\n",
    "# modificando diccionario\n",
    "diccionario['raza'] = 'Pura'\n",
    "print(diccionario)"
   ]
  },
  {
   "cell_type": "code",
   "execution_count": 26,
   "id": "53ea64c4",
   "metadata": {},
   "outputs": [
    {
     "name": "stdout",
     "output_type": "stream",
     "text": [
      "{'nombre': 'Peluza', 'raza': 'Mixta', 'edad': 1.4, 'ronronea': True}\n"
     ]
    }
   ],
   "source": [
    "# agregando valores a diccionarios\n",
    "diccionario['ronronea'] = True\n",
    "print(diccionario)"
   ]
  },
  {
   "cell_type": "code",
   "execution_count": 27,
   "id": "9713ea82",
   "metadata": {},
   "outputs": [
    {
     "name": "stdout",
     "output_type": "stream",
     "text": [
      "{'nombre': 'Peluza', 'raza': 'Mixta', 'edad': 1.4}\n",
      "{'nombre': 'Peluza', 'raza': 'Mixta'}\n",
      "{'nombre': 'Peluza'}\n"
     ]
    }
   ],
   "source": [
    "# eliminar un valor\n",
    "diccionario.pop('ronronea')\n",
    "print(diccionario)\n",
    "diccionario.popitem() # elimina el ultimo valor a eliminar\n",
    "print(diccionario)\n",
    "del diccionario['raza'] # elimina un valor en especifico\n",
    "print(diccionario)"
   ]
  },
  {
   "cell_type": "code",
   "execution_count": 30,
   "id": "e46ad528",
   "metadata": {},
   "outputs": [
    {
     "name": "stdout",
     "output_type": "stream",
     "text": [
      "{'nombre': 'Peluza'}\n",
      "{'nombre': 'Peluza'}\n"
     ]
    }
   ],
   "source": [
    "# copiando un diccionario\n",
    "copiadiccionario = diccionario.copy()\n",
    "copiadiccionario = dict(diccionario) # otra manera de realizar copias\n",
    "print(diccionario, copiadiccionario, sep='\\n')"
   ]
  },
  {
   "cell_type": "code",
   "execution_count": 32,
   "id": "a5a3efbd",
   "metadata": {},
   "outputs": [
    {
     "name": "stdout",
     "output_type": "stream",
     "text": [
      "{}\n",
      "{'nombre': 'Peluza'}\n"
     ]
    }
   ],
   "source": [
    "# eliminando todos los valores de un diccionario\n",
    "diccionario.clear()\n",
    "print(diccionario, copiadiccionario, sep='\\n')"
   ]
  },
  {
   "cell_type": "code",
   "execution_count": 35,
   "id": "57e36059",
   "metadata": {},
   "outputs": [
    {
     "name": "stdout",
     "output_type": "stream",
     "text": [
      "{'Fluffy': {'nombre': 'Fluffy', 'edad': 4}, 'Peluza': {'nombre': 'Peluza', 'edad': 1.4}}\n"
     ]
    }
   ],
   "source": [
    "gatitos = {\n",
    "    'Fluffy' : {\n",
    "        'nombre' : 'Fluffy',\n",
    "        'edad' : 4\n",
    "    },\n",
    "    'Peluza' : {\n",
    "        'nombre' : 'Peluza',\n",
    "        'edad' : 1.4\n",
    "    }\n",
    "}\n",
    "print(gatitos)"
   ]
  },
  {
   "cell_type": "code",
   "execution_count": 36,
   "id": "b7a1f457",
   "metadata": {},
   "outputs": [
    {
     "name": "stdout",
     "output_type": "stream",
     "text": [
      "{'Fluffy': {'nombre': 'Fluffy', 'edad': 4}, 'Peluza': {'nombre': 'Black Peluz', 'edad': 1.4}}\n"
     ]
    }
   ],
   "source": [
    "# Otra manera de definir diccionarios definidos\n",
    "Fluffy = {\n",
    "    'nombre' : 'Fluffy',\n",
    "    'edad' : 4\n",
    "}\n",
    "Peluza = {\n",
    "    'nombre' : 'Black Peluz',\n",
    "    'edad' : 1.4\n",
    "}\n",
    "gatitos = {\n",
    "    'Fluffy' : Fluffy,\n",
    "    'Peluza' : Peluza\n",
    "}\n",
    "print(gatitos)"
   ]
  },
  {
   "cell_type": "code",
   "execution_count": 37,
   "id": "36688681",
   "metadata": {},
   "outputs": [
    {
     "name": "stdout",
     "output_type": "stream",
     "text": [
      "{'nombre': 'Mia', 'raza': 'unica', 'edad': 9}\n"
     ]
    }
   ],
   "source": [
    "# Otra manera de definir diccionarios\n",
    "perritos = dict(\n",
    "    nombre = 'Mia',\n",
    "    raza = 'unica',\n",
    "    edad = 9\n",
    ")\n",
    "print(perritos)"
   ]
  },
  {
   "cell_type": "code",
   "execution_count": 38,
   "id": "4984f35d",
   "metadata": {},
   "outputs": [
    {
     "name": "stdout",
     "output_type": "stream",
     "text": [
      "True False\n"
     ]
    }
   ],
   "source": [
    "# booleanos\n",
    "# True or False\n",
    "verdadero = True\n",
    "falso = False\n",
    "print(verdadero, falso)"
   ]
  }
 ],
 "metadata": {
  "kernelspec": {
   "display_name": "Python 3 (ipykernel)",
   "language": "python",
   "name": "python3"
  },
  "language_info": {
   "codemirror_mode": {
    "name": "ipython",
    "version": 3
   },
   "file_extension": ".py",
   "mimetype": "text/x-python",
   "name": "python",
   "nbconvert_exporter": "python",
   "pygments_lexer": "ipython3",
   "version": "3.10.10"
  }
 },
 "nbformat": 4,
 "nbformat_minor": 5
}
