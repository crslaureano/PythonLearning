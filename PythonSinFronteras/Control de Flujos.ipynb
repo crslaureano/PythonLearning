{
 "cells": [
  {
   "cell_type": "code",
   "execution_count": 2,
   "id": "d58ceabc",
   "metadata": {},
   "outputs": [
    {
     "name": "stdout",
     "output_type": "stream",
     "text": [
      "2 3\n",
      "a es igual a 2\n",
      "a es diferente a 3\n",
      "a es menor a b\n",
      "a es menor o igual a b\n"
     ]
    }
   ],
   "source": [
    "a = 2\n",
    "b = 3\n",
    "print(a, b)\n",
    "if a == 2:\n",
    "    print('a es igual a 2')\n",
    "if a != 3:\n",
    "    print('a es diferente a 3')\n",
    "if a > b:\n",
    "    print('a es mayor a b')\n",
    "if a < b:\n",
    "    print('a es menor a b')\n",
    "if a >= b:\n",
    "    print('a es mayor o igual a b')\n",
    "if a <= b:\n",
    "    print('a es menor o igual a b')"
   ]
  },
  {
   "cell_type": "code",
   "execution_count": 4,
   "id": "0f20c593",
   "metadata": {},
   "outputs": [
    {
     "name": "stdout",
     "output_type": "stream",
     "text": [
      "a es par\n"
     ]
    }
   ],
   "source": [
    "# ejemplo de si un numero es par o no\n",
    "# si se utiliza elif, si if es verdadero ya no se evaluara elif\n",
    "# else se ejecuta siempre en cuando todo lo anterior resulta ser falso\n",
    "if a%2 == 0:\n",
    "    print('a es par')\n",
    "elif a%4 == 0: # puede contener varior elif si asi se requiera\n",
    "    print('modulo de 4')\n",
    "else: # solo hay un unico else por if\n",
    "    print('a no es par')"
   ]
  },
  {
   "cell_type": "code",
   "execution_count": 6,
   "id": "977b34c0",
   "metadata": {},
   "outputs": [
    {
     "name": "stdout",
     "output_type": "stream",
     "text": [
      "if en una sola lina\n",
      "cuando es verdadero\n",
      "cuando es falso\n"
     ]
    }
   ],
   "source": [
    "# utilizando if en una sola linea\n",
    "if 2<5 : print('if en una sola lina')\n",
    "\n",
    "# utilizando un operador ternario\n",
    "print('cuando es verdadero') if 2<5 else print('cuando es falso')\n",
    "print('cuando es verdadero') if 2>5 else print('cuando es falso')"
   ]
  },
  {
   "cell_type": "code",
   "execution_count": 9,
   "id": "c0de29b2",
   "metadata": {},
   "outputs": [
    {
     "name": "stdout",
     "output_type": "stream",
     "text": [
      "False\n",
      "True\n"
     ]
    }
   ],
   "source": [
    "# evaluando mas de una condicion con and y or\n",
    "if 2<5 and 5>7: print(True) # and ambas condiciones tienen que ser verdaderas\n",
    "else: print(False)\n",
    "    \n",
    "if 2<5 or 5>7: print(True) # or almenos una condicion es verdadera para ejecutar if\n",
    "else: print(False)"
   ]
  },
  {
   "cell_type": "code",
   "execution_count": 10,
   "id": "07b96435",
   "metadata": {},
   "outputs": [
    {
     "name": "stdout",
     "output_type": "stream",
     "text": [
      "False\n"
     ]
    }
   ],
   "source": [
    "print(True) if 2<5 and 5=='5' else print(False)"
   ]
  }
 ],
 "metadata": {
  "kernelspec": {
   "display_name": "Python 3 (ipykernel)",
   "language": "python",
   "name": "python3"
  },
  "language_info": {
   "codemirror_mode": {
    "name": "ipython",
    "version": 3
   },
   "file_extension": ".py",
   "mimetype": "text/x-python",
   "name": "python",
   "nbconvert_exporter": "python",
   "pygments_lexer": "ipython3",
   "version": "3.10.10"
  }
 },
 "nbformat": 4,
 "nbformat_minor": 5
}
