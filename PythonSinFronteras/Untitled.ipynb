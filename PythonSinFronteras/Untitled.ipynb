{
 "cells": [
  {
   "cell_type": "markdown",
   "id": "34d21231-8168-48dc-98a7-bcb6c96c2347",
   "metadata": {
    "tags": []
   },
   "source": [
    "# Loop while and for\n"
   ]
  },
  {
   "cell_type": "code",
   "execution_count": 16,
   "id": "fbbfcae9-d2e9-4f8b-bb55-b468e5271b43",
   "metadata": {
    "tags": []
   },
   "outputs": [
    {
     "name": "stdin",
     "output_type": "stream",
     "text": [
      " 9\n",
      " 9\n",
      " -\n"
     ]
    },
    {
     "name": "stdout",
     "output_type": "stream",
     "text": [
      "Resta:  0\n"
     ]
    }
   ],
   "source": [
    "#Calculadora de numeros, cuatro operaciones basicas\n",
    "try:\n",
    "    #Ingreso de 2 numeros a evaluar\n",
    "    number1 = int(input())\n",
    "    number2 = int(input())\n",
    "    try: #Realizando operaciones para la calculadora\n",
    "        operator = input()\n",
    "        if operator == '+':\n",
    "            print('Suma: ', number1+number2)\n",
    "        elif operator == '-':\n",
    "            print('Resta: ', number1-number2)            \n",
    "        elif operator == '*':\n",
    "            print('Multiplicar: ', number1*number2)\n",
    "        elif operator == '/':\n",
    "            print('Division: ', number1/number2)\n",
    "        else:\n",
    "            print('operador no valido')\n",
    "    except:\n",
    "        print('No se pudo completar tarea')            \n",
    "except:\n",
    "    print('tienen que ser numeros')"
   ]
  },
  {
   "cell_type": "code",
   "execution_count": 17,
   "id": "e2b911f9-119b-4038-ac49-b0f6393e33f9",
   "metadata": {
    "tags": []
   },
   "outputs": [
    {
     "name": "stdout",
     "output_type": "stream",
     "text": [
      "0\n",
      "1\n",
      "2\n",
      "3\n",
      "4\n",
      "5\n",
      "6\n",
      "7\n",
      "8\n",
      "9\n"
     ]
    }
   ],
   "source": [
    "#while\n",
    "counter = 0\n",
    "while counter < 10:\n",
    "    print(counter)\n",
    "    counter += 1"
   ]
  },
  {
   "cell_type": "code",
   "execution_count": null,
   "id": "8c67fb6a-1a8d-4933-bb89-ba3fa0c63e1b",
   "metadata": {},
   "outputs": [],
   "source": [
    "chat = input('> ')\n",
    "while"
   ]
  },
  {
   "cell_type": "code",
   "execution_count": 18,
   "id": "e124de64-a6e9-435b-990e-1fea0ee0143a",
   "metadata": {
    "tags": []
   },
   "outputs": [
    {
     "data": {
      "text/plain": [
       "3.717241379310345"
      ]
     },
     "execution_count": 18,
     "metadata": {},
     "output_type": "execute_result"
    }
   ],
   "source": [
    "539/145"
   ]
  }
 ],
 "metadata": {
  "kernelspec": {
   "display_name": "Python 3 (ipykernel)",
   "language": "python",
   "name": "python3"
  },
  "language_info": {
   "codemirror_mode": {
    "name": "ipython",
    "version": 3
   },
   "file_extension": ".py",
   "mimetype": "text/x-python",
   "name": "python",
   "nbconvert_exporter": "python",
   "pygments_lexer": "ipython3",
   "version": "3.10.10"
  }
 },
 "nbformat": 4,
 "nbformat_minor": 5
}
